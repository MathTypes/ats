{
 "cells": [
  {
   "cell_type": "markdown",
   "metadata": {},
   "source": [
    "# TensorTrade - Renderers and Plotly Visualization Chart\n",
    "## Data Loading Function"
   ]
  },
  {
   "cell_type": "code",
   "execution_count": 1,
   "metadata": {},
   "outputs": [
    {
     "name": "stdout",
     "output_type": "stream",
     "text": [
      "Processing /tensortrade\n",
      "  Preparing metadata (setup.py) ... \u001b[?25ldone\n",
      "\u001b[?25hRequirement already satisfied: numpy>=1.17.0 in /usr/local/lib/python3.8/dist-packages (from tensortrade==1.0.4.dev1) (1.21.3)\n",
      "Requirement already satisfied: pandas>=0.25.0 in /usr/local/lib/python3.8/dist-packages (from tensortrade==1.0.4.dev1) (1.5.3)\n",
      "Requirement already satisfied: gym>=0.15.7 in /usr/local/lib/python3.8/dist-packages (from tensortrade==1.0.4.dev1) (0.26.2)\n",
      "Requirement already satisfied: pyyaml>=5.1.2 in /usr/local/lib/python3.8/dist-packages (from tensortrade==1.0.4.dev1) (6.0)\n",
      "Requirement already satisfied: stochastic>=0.6.0 in /usr/local/lib/python3.8/dist-packages (from tensortrade==1.0.4.dev1) (0.7.0)\n",
      "Requirement already satisfied: tensorflow>=2.7.0 in /usr/local/lib/python3.8/dist-packages (from tensortrade==1.0.4.dev1) (2.11.0)\n",
      "Requirement already satisfied: ipython>=7.12.0 in /usr/local/lib/python3.8/dist-packages (from tensortrade==1.0.4.dev1) (8.10.0)\n",
      "Requirement already satisfied: matplotlib>=3.1.1 in /usr/local/lib/python3.8/dist-packages (from tensortrade==1.0.4.dev1) (3.7.0)\n",
      "Requirement already satisfied: plotly>=4.5.0 in /usr/local/lib/python3.8/dist-packages (from tensortrade==1.0.4.dev1) (5.13.1)\n",
      "Requirement already satisfied: deprecated>=1.2.13 in /usr/local/lib/python3.8/dist-packages (from tensortrade==1.0.4.dev1) (1.2.13)\n",
      "Requirement already satisfied: wrapt<2,>=1.10 in /usr/local/lib/python3.8/dist-packages (from deprecated>=1.2.13->tensortrade==1.0.4.dev1) (1.13.3)\n",
      "Requirement already satisfied: importlib-metadata>=4.8.0 in /usr/local/lib/python3.8/dist-packages (from gym>=0.15.7->tensortrade==1.0.4.dev1) (6.0.0)\n",
      "Requirement already satisfied: cloudpickle>=1.2.0 in /usr/local/lib/python3.8/dist-packages (from gym>=0.15.7->tensortrade==1.0.4.dev1) (2.2.1)\n",
      "Requirement already satisfied: gym-notices>=0.0.4 in /usr/local/lib/python3.8/dist-packages (from gym>=0.15.7->tensortrade==1.0.4.dev1) (0.0.8)\n",
      "Requirement already satisfied: pickleshare in /usr/local/lib/python3.8/dist-packages (from ipython>=7.12.0->tensortrade==1.0.4.dev1) (0.7.5)\n",
      "Requirement already satisfied: traitlets>=5 in /usr/local/lib/python3.8/dist-packages (from ipython>=7.12.0->tensortrade==1.0.4.dev1) (5.9.0)\n",
      "Requirement already satisfied: prompt-toolkit<3.1.0,>=3.0.30 in /usr/local/lib/python3.8/dist-packages (from ipython>=7.12.0->tensortrade==1.0.4.dev1) (3.0.37)\n",
      "Requirement already satisfied: backcall in /usr/local/lib/python3.8/dist-packages (from ipython>=7.12.0->tensortrade==1.0.4.dev1) (0.2.0)\n",
      "Requirement already satisfied: stack-data in /usr/local/lib/python3.8/dist-packages (from ipython>=7.12.0->tensortrade==1.0.4.dev1) (0.6.2)\n",
      "Requirement already satisfied: pygments>=2.4.0 in /usr/local/lib/python3.8/dist-packages (from ipython>=7.12.0->tensortrade==1.0.4.dev1) (2.14.0)\n",
      "Requirement already satisfied: jedi>=0.16 in /usr/local/lib/python3.8/dist-packages (from ipython>=7.12.0->tensortrade==1.0.4.dev1) (0.18.2)\n",
      "Requirement already satisfied: decorator in /usr/local/lib/python3.8/dist-packages (from ipython>=7.12.0->tensortrade==1.0.4.dev1) (5.1.1)\n",
      "Requirement already satisfied: matplotlib-inline in /usr/local/lib/python3.8/dist-packages (from ipython>=7.12.0->tensortrade==1.0.4.dev1) (0.1.6)\n",
      "Requirement already satisfied: pexpect>4.3 in /usr/local/lib/python3.8/dist-packages (from ipython>=7.12.0->tensortrade==1.0.4.dev1) (4.8.0)\n",
      "Requirement already satisfied: python-dateutil>=2.7 in /usr/local/lib/python3.8/dist-packages (from matplotlib>=3.1.1->tensortrade==1.0.4.dev1) (2.8.2)\n",
      "Requirement already satisfied: kiwisolver>=1.0.1 in /usr/local/lib/python3.8/dist-packages (from matplotlib>=3.1.1->tensortrade==1.0.4.dev1) (1.4.4)\n",
      "Requirement already satisfied: importlib-resources>=3.2.0 in /usr/local/lib/python3.8/dist-packages (from matplotlib>=3.1.1->tensortrade==1.0.4.dev1) (5.12.0)\n",
      "Requirement already satisfied: cycler>=0.10 in /usr/local/lib/python3.8/dist-packages (from matplotlib>=3.1.1->tensortrade==1.0.4.dev1) (0.11.0)\n",
      "Requirement already satisfied: fonttools>=4.22.0 in /usr/local/lib/python3.8/dist-packages (from matplotlib>=3.1.1->tensortrade==1.0.4.dev1) (4.38.0)\n",
      "Requirement already satisfied: pyparsing>=2.3.1 in /usr/local/lib/python3.8/dist-packages (from matplotlib>=3.1.1->tensortrade==1.0.4.dev1) (3.0.9)\n",
      "Requirement already satisfied: contourpy>=1.0.1 in /usr/local/lib/python3.8/dist-packages (from matplotlib>=3.1.1->tensortrade==1.0.4.dev1) (1.0.7)\n",
      "Requirement already satisfied: packaging>=20.0 in /usr/local/lib/python3.8/dist-packages (from matplotlib>=3.1.1->tensortrade==1.0.4.dev1) (23.0)\n",
      "Requirement already satisfied: pillow>=6.2.0 in /usr/local/lib/python3.8/dist-packages (from matplotlib>=3.1.1->tensortrade==1.0.4.dev1) (9.4.0)\n",
      "Requirement already satisfied: pytz>=2020.1 in /usr/local/lib/python3.8/dist-packages (from pandas>=0.25.0->tensortrade==1.0.4.dev1) (2022.7.1)\n",
      "Requirement already satisfied: tenacity>=6.2.0 in /usr/local/lib/python3.8/dist-packages (from plotly>=4.5.0->tensortrade==1.0.4.dev1) (8.2.1)\n",
      "Requirement already satisfied: scipy<2.0,>=1.8 in /usr/local/lib/python3.8/dist-packages (from stochastic>=0.6.0->tensortrade==1.0.4.dev1) (1.10.1)\n",
      "Requirement already satisfied: tensorboard<2.12,>=2.11 in /usr/local/lib/python3.8/dist-packages (from tensorflow>=2.7.0->tensortrade==1.0.4.dev1) (2.11.2)\n",
      "Requirement already satisfied: tensorflow-io-gcs-filesystem>=0.23.1 in /usr/local/lib/python3.8/dist-packages (from tensorflow>=2.7.0->tensortrade==1.0.4.dev1) (0.31.0)\n",
      "Requirement already satisfied: six>=1.12.0 in /usr/local/lib/python3.8/dist-packages (from tensorflow>=2.7.0->tensortrade==1.0.4.dev1) (1.16.0)\n",
      "Requirement already satisfied: tensorflow-estimator<2.12,>=2.11.0 in /usr/local/lib/python3.8/dist-packages (from tensorflow>=2.7.0->tensortrade==1.0.4.dev1) (2.11.0)\n",
      "Requirement already satisfied: flatbuffers>=2.0 in /usr/local/lib/python3.8/dist-packages (from tensorflow>=2.7.0->tensortrade==1.0.4.dev1) (2.0)\n",
      "Requirement already satisfied: google-pasta>=0.1.1 in /usr/local/lib/python3.8/dist-packages (from tensorflow>=2.7.0->tensortrade==1.0.4.dev1) (0.2.0)\n",
      "Requirement already satisfied: protobuf<3.20,>=3.9.2 in /usr/local/lib/python3.8/dist-packages (from tensorflow>=2.7.0->tensortrade==1.0.4.dev1) (3.19.6)\n",
      "Requirement already satisfied: typing-extensions>=3.6.6 in /usr/local/lib/python3.8/dist-packages (from tensorflow>=2.7.0->tensortrade==1.0.4.dev1) (4.5.0)\n",
      "Requirement already satisfied: opt-einsum>=2.3.2 in /usr/local/lib/python3.8/dist-packages (from tensorflow>=2.7.0->tensortrade==1.0.4.dev1) (3.3.0)\n",
      "Requirement already satisfied: h5py>=2.9.0 in /usr/local/lib/python3.8/dist-packages (from tensorflow>=2.7.0->tensortrade==1.0.4.dev1) (3.5.0)\n",
      "Requirement already satisfied: grpcio<2.0,>=1.24.3 in /usr/local/lib/python3.8/dist-packages (from tensorflow>=2.7.0->tensortrade==1.0.4.dev1) (1.41.1)\n",
      "Requirement already satisfied: libclang>=13.0.0 in /usr/local/lib/python3.8/dist-packages (from tensorflow>=2.7.0->tensortrade==1.0.4.dev1) (15.0.6.1)\n",
      "Requirement already satisfied: astunparse>=1.6.0 in /usr/local/lib/python3.8/dist-packages (from tensorflow>=2.7.0->tensortrade==1.0.4.dev1) (1.6.3)\n",
      "Requirement already satisfied: gast<=0.4.0,>=0.2.1 in /usr/local/lib/python3.8/dist-packages (from tensorflow>=2.7.0->tensortrade==1.0.4.dev1) (0.4.0)\n",
      "Requirement already satisfied: keras<2.12,>=2.11.0 in /usr/local/lib/python3.8/dist-packages (from tensorflow>=2.7.0->tensortrade==1.0.4.dev1) (2.11.0)\n",
      "Requirement already satisfied: absl-py>=1.0.0 in /usr/local/lib/python3.8/dist-packages (from tensorflow>=2.7.0->tensortrade==1.0.4.dev1) (1.4.0)\n",
      "Requirement already satisfied: termcolor>=1.1.0 in /usr/local/lib/python3.8/dist-packages (from tensorflow>=2.7.0->tensortrade==1.0.4.dev1) (1.1.0)\n",
      "Requirement already satisfied: setuptools in /usr/local/lib/python3.8/dist-packages (from tensorflow>=2.7.0->tensortrade==1.0.4.dev1) (67.4.0)\n",
      "Requirement already satisfied: wheel<1.0,>=0.23.0 in /usr/lib/python3/dist-packages (from astunparse>=1.6.0->tensorflow>=2.7.0->tensortrade==1.0.4.dev1) (0.34.2)\n",
      "Requirement already satisfied: zipp>=0.5 in /usr/local/lib/python3.8/dist-packages (from importlib-metadata>=4.8.0->gym>=0.15.7->tensortrade==1.0.4.dev1) (3.15.0)\n"
     ]
    },
    {
     "name": "stdout",
     "output_type": "stream",
     "text": [
      "Requirement already satisfied: parso<0.9.0,>=0.8.0 in /usr/local/lib/python3.8/dist-packages (from jedi>=0.16->ipython>=7.12.0->tensortrade==1.0.4.dev1) (0.8.3)\n",
      "Requirement already satisfied: ptyprocess>=0.5 in /usr/local/lib/python3.8/dist-packages (from pexpect>4.3->ipython>=7.12.0->tensortrade==1.0.4.dev1) (0.7.0)\n",
      "Requirement already satisfied: wcwidth in /usr/local/lib/python3.8/dist-packages (from prompt-toolkit<3.1.0,>=3.0.30->ipython>=7.12.0->tensortrade==1.0.4.dev1) (0.2.6)\n",
      "Requirement already satisfied: google-auth-oauthlib<0.5,>=0.4.1 in /usr/local/lib/python3.8/dist-packages (from tensorboard<2.12,>=2.11->tensorflow>=2.7.0->tensortrade==1.0.4.dev1) (0.4.6)\n",
      "Requirement already satisfied: google-auth<3,>=1.6.3 in /usr/local/lib/python3.8/dist-packages (from tensorboard<2.12,>=2.11->tensorflow>=2.7.0->tensortrade==1.0.4.dev1) (2.16.1)\n",
      "Requirement already satisfied: werkzeug>=1.0.1 in /usr/local/lib/python3.8/dist-packages (from tensorboard<2.12,>=2.11->tensorflow>=2.7.0->tensortrade==1.0.4.dev1) (2.0.2)\n",
      "Requirement already satisfied: markdown>=2.6.8 in /usr/local/lib/python3.8/dist-packages (from tensorboard<2.12,>=2.11->tensorflow>=2.7.0->tensortrade==1.0.4.dev1) (3.4.1)\n",
      "Requirement already satisfied: requests<3,>=2.21.0 in /usr/local/lib/python3.8/dist-packages (from tensorboard<2.12,>=2.11->tensorflow>=2.7.0->tensortrade==1.0.4.dev1) (2.28.2)\n",
      "Requirement already satisfied: tensorboard-plugin-wit>=1.6.0 in /usr/local/lib/python3.8/dist-packages (from tensorboard<2.12,>=2.11->tensorflow>=2.7.0->tensortrade==1.0.4.dev1) (1.8.0)\n",
      "Requirement already satisfied: tensorboard-data-server<0.7.0,>=0.6.0 in /usr/local/lib/python3.8/dist-packages (from tensorboard<2.12,>=2.11->tensorflow>=2.7.0->tensortrade==1.0.4.dev1) (0.6.1)\n",
      "Requirement already satisfied: pure-eval in /usr/local/lib/python3.8/dist-packages (from stack-data->ipython>=7.12.0->tensortrade==1.0.4.dev1) (0.2.2)\n",
      "Requirement already satisfied: executing>=1.2.0 in /usr/local/lib/python3.8/dist-packages (from stack-data->ipython>=7.12.0->tensortrade==1.0.4.dev1) (1.2.0)\n",
      "Requirement already satisfied: asttokens>=2.1.0 in /usr/local/lib/python3.8/dist-packages (from stack-data->ipython>=7.12.0->tensortrade==1.0.4.dev1) (2.2.1)\n",
      "Requirement already satisfied: rsa<5,>=3.1.4 in /usr/local/lib/python3.8/dist-packages (from google-auth<3,>=1.6.3->tensorboard<2.12,>=2.11->tensorflow>=2.7.0->tensortrade==1.0.4.dev1) (4.7.2)\n",
      "Requirement already satisfied: pyasn1-modules>=0.2.1 in /usr/local/lib/python3.8/dist-packages (from google-auth<3,>=1.6.3->tensorboard<2.12,>=2.11->tensorflow>=2.7.0->tensortrade==1.0.4.dev1) (0.2.8)\n",
      "Requirement already satisfied: cachetools<6.0,>=2.0.0 in /usr/local/lib/python3.8/dist-packages (from google-auth<3,>=1.6.3->tensorboard<2.12,>=2.11->tensorflow>=2.7.0->tensortrade==1.0.4.dev1) (4.2.4)\n",
      "Requirement already satisfied: requests-oauthlib>=0.7.0 in /usr/local/lib/python3.8/dist-packages (from google-auth-oauthlib<0.5,>=0.4.1->tensorboard<2.12,>=2.11->tensorflow>=2.7.0->tensortrade==1.0.4.dev1) (1.3.0)\n",
      "Requirement already satisfied: certifi>=2017.4.17 in /usr/local/lib/python3.8/dist-packages (from requests<3,>=2.21.0->tensorboard<2.12,>=2.11->tensorflow>=2.7.0->tensortrade==1.0.4.dev1) (2021.10.8)\n",
      "Requirement already satisfied: urllib3<1.27,>=1.21.1 in /usr/local/lib/python3.8/dist-packages (from requests<3,>=2.21.0->tensorboard<2.12,>=2.11->tensorflow>=2.7.0->tensortrade==1.0.4.dev1) (1.26.7)\n",
      "Requirement already satisfied: idna<4,>=2.5 in /usr/local/lib/python3.8/dist-packages (from requests<3,>=2.21.0->tensorboard<2.12,>=2.11->tensorflow>=2.7.0->tensortrade==1.0.4.dev1) (3.3)\n",
      "Requirement already satisfied: charset-normalizer<4,>=2 in /usr/local/lib/python3.8/dist-packages (from requests<3,>=2.21.0->tensorboard<2.12,>=2.11->tensorflow>=2.7.0->tensortrade==1.0.4.dev1) (2.0.7)\n",
      "Requirement already satisfied: pyasn1<0.5.0,>=0.4.6 in /usr/local/lib/python3.8/dist-packages (from pyasn1-modules>=0.2.1->google-auth<3,>=1.6.3->tensorboard<2.12,>=2.11->tensorflow>=2.7.0->tensortrade==1.0.4.dev1) (0.4.8)\n",
      "Requirement already satisfied: oauthlib>=3.0.0 in /usr/local/lib/python3.8/dist-packages (from requests-oauthlib>=0.7.0->google-auth-oauthlib<0.5,>=0.4.1->tensorboard<2.12,>=2.11->tensorflow>=2.7.0->tensortrade==1.0.4.dev1) (3.1.1)\n",
      "Building wheels for collected packages: tensortrade\n",
      "  Building wheel for tensortrade (setup.py) ... \u001b[?25ldone\n",
      "\u001b[?25h  Created wheel for tensortrade: filename=tensortrade-1.0.4.dev1-py3-none-any.whl size=136442 sha256=96c32fa287662ad3e52c79cd10bc3d7e29aa30200341b8d69162aacfd5dce1c1\n",
      "  Stored in directory: /tmp/pip-ephem-wheel-cache-19ev0z93/wheels/5c/80/0b/07e46799e19c54c3244190ea08f82534ab3fbdbd4fad3de846\n",
      "Successfully built tensortrade\n",
      "Installing collected packages: tensortrade\n",
      "  Attempting uninstall: tensortrade\n",
      "    Found existing installation: tensortrade 1.0.4.dev1\n",
      "    Uninstalling tensortrade-1.0.4.dev1:\n",
      "      Successfully uninstalled tensortrade-1.0.4.dev1\n",
      "Successfully installed tensortrade-1.0.4.dev1\n",
      "\u001b[33mWARNING: Running pip as the 'root' user can result in broken permissions and conflicting behaviour with the system package manager. It is recommended to use a virtual environment instead: https://pip.pypa.io/warnings/venv\u001b[0m\u001b[33m\n",
      "\u001b[0m"
     ]
    }
   ],
   "source": [
    "!pip install /tensortrade -U"
   ]
  },
  {
   "cell_type": "code",
   "execution_count": 2,
   "metadata": {},
   "outputs": [],
   "source": [
    "# ipywidgets is required to run Plotly in Jupyter Notebook.\n",
    "# Uncomment and run the following line to install it if required.\n",
    "\n",
    "#!pip install ipywidgets"
   ]
  },
  {
   "cell_type": "code",
   "execution_count": 3,
   "metadata": {},
   "outputs": [
    {
     "name": "stderr",
     "output_type": "stream",
     "text": [
      "2023-02-26 20:40:25.313129: I tensorflow/core/platform/cpu_feature_guard.cc:193] This TensorFlow binary is optimized with oneAPI Deep Neural Network Library (oneDNN) to use the following CPU instructions in performance-critical operations:  AVX2 FMA\n",
      "To enable them in other operations, rebuild TensorFlow with the appropriate compiler flags.\n",
      "2023-02-26 20:40:25.455060: W tensorflow/compiler/xla/stream_executor/platform/default/dso_loader.cc:64] Could not load dynamic library 'libcudart.so.11.0'; dlerror: libcudart.so.11.0: cannot open shared object file: No such file or directory\n",
      "2023-02-26 20:40:25.455087: I tensorflow/compiler/xla/stream_executor/cuda/cudart_stub.cc:29] Ignore above cudart dlerror if you do not have a GPU set up on your machine.\n",
      "2023-02-26 20:40:26.113917: W tensorflow/compiler/xla/stream_executor/platform/default/dso_loader.cc:64] Could not load dynamic library 'libnvinfer.so.7'; dlerror: libnvinfer.so.7: cannot open shared object file: No such file or directory\n",
      "2023-02-26 20:40:26.114026: W tensorflow/compiler/xla/stream_executor/platform/default/dso_loader.cc:64] Could not load dynamic library 'libnvinfer_plugin.so.7'; dlerror: libnvinfer_plugin.so.7: cannot open shared object file: No such file or directory\n",
      "2023-02-26 20:40:26.114046: W tensorflow/compiler/tf2tensorrt/utils/py_utils.cc:38] TF-TRT Warning: Cannot dlopen some TensorRT libraries. If you would like to use Nvidia GPU with TensorRT, please make sure the missing libraries mentioned above are installed properly.\n"
     ]
    }
   ],
   "source": [
    "import ta\n",
    "\n",
    "import pandas as pd\n",
    "\n",
    "from tensortrade.feed.core import Stream, DataFeed, NameSpace\n",
    "from tensortrade.oms.exchanges import Exchange\n",
    "from tensortrade.oms.services.execution.simulated import execute_order\n",
    "from tensortrade.oms.instruments import USD, BTC\n",
    "from tensortrade.oms.wallets import Wallet, Portfolio\n",
    "\n",
    "%matplotlib inline"
   ]
  },
  {
   "cell_type": "code",
   "execution_count": 4,
   "metadata": {},
   "outputs": [],
   "source": [
    "def load_csv(filename):\n",
    "    df = pd.read_csv('data/' + filename, skiprows=1)\n",
    "    df.drop(columns=['symbol', 'volume_btc'], inplace=True)\n",
    "\n",
    "    # Fix timestamp form \"2019-10-17 09-AM\" to \"2019-10-17 09-00-00 AM\"\n",
    "    df['date'] = df['date'].str[:14] + '00-00 ' + df['date'].str[-2:]\n",
    "\n",
    "    # Convert the date column type from string to datetime for proper sorting.\n",
    "    df['date'] = pd.to_datetime(df['date'])\n",
    "\n",
    "    # Make sure historical prices are sorted chronologically, oldest first.\n",
    "    df.sort_values(by='date', ascending=True, inplace=True)\n",
    "\n",
    "    df.reset_index(drop=True, inplace=True)\n",
    "\n",
    "    # Format timestamps as you want them to appear on the chart buy/sell marks.\n",
    "    df['date'] = df['date'].dt.strftime('%Y-%m-%d %I:%M %p')\n",
    "\n",
    "    return df"
   ]
  },
  {
   "cell_type": "code",
   "execution_count": 5,
   "metadata": {},
   "outputs": [
    {
     "data": {
      "text/html": [
       "<div>\n",
       "<style scoped>\n",
       "    .dataframe tbody tr th:only-of-type {\n",
       "        vertical-align: middle;\n",
       "    }\n",
       "\n",
       "    .dataframe tbody tr th {\n",
       "        vertical-align: top;\n",
       "    }\n",
       "\n",
       "    .dataframe thead th {\n",
       "        text-align: right;\n",
       "    }\n",
       "</style>\n",
       "<table border=\"1\" class=\"dataframe\">\n",
       "  <thead>\n",
       "    <tr style=\"text-align: right;\">\n",
       "      <th></th>\n",
       "      <th>date</th>\n",
       "      <th>open</th>\n",
       "      <th>high</th>\n",
       "      <th>low</th>\n",
       "      <th>close</th>\n",
       "      <th>volume</th>\n",
       "    </tr>\n",
       "  </thead>\n",
       "  <tbody>\n",
       "    <tr>\n",
       "      <th>0</th>\n",
       "      <td>2017-07-01 11:00 AM</td>\n",
       "      <td>2505.56</td>\n",
       "      <td>2513.38</td>\n",
       "      <td>2495.12</td>\n",
       "      <td>2509.17</td>\n",
       "      <td>287000.32</td>\n",
       "    </tr>\n",
       "    <tr>\n",
       "      <th>1</th>\n",
       "      <td>2017-07-01 12:00 PM</td>\n",
       "      <td>2509.17</td>\n",
       "      <td>2512.87</td>\n",
       "      <td>2484.99</td>\n",
       "      <td>2488.43</td>\n",
       "      <td>393142.50</td>\n",
       "    </tr>\n",
       "    <tr>\n",
       "      <th>2</th>\n",
       "      <td>2017-07-01 01:00 PM</td>\n",
       "      <td>2488.43</td>\n",
       "      <td>2488.43</td>\n",
       "      <td>2454.40</td>\n",
       "      <td>2454.43</td>\n",
       "      <td>693254.01</td>\n",
       "    </tr>\n",
       "    <tr>\n",
       "      <th>3</th>\n",
       "      <td>2017-07-01 02:00 PM</td>\n",
       "      <td>2454.43</td>\n",
       "      <td>2473.93</td>\n",
       "      <td>2450.83</td>\n",
       "      <td>2459.35</td>\n",
       "      <td>712864.80</td>\n",
       "    </tr>\n",
       "    <tr>\n",
       "      <th>4</th>\n",
       "      <td>2017-07-01 03:00 PM</td>\n",
       "      <td>2459.35</td>\n",
       "      <td>2475.00</td>\n",
       "      <td>2450.00</td>\n",
       "      <td>2467.83</td>\n",
       "      <td>682105.41</td>\n",
       "    </tr>\n",
       "  </tbody>\n",
       "</table>\n",
       "</div>"
      ],
      "text/plain": [
       "                  date     open     high      low    close     volume\n",
       "0  2017-07-01 11:00 AM  2505.56  2513.38  2495.12  2509.17  287000.32\n",
       "1  2017-07-01 12:00 PM  2509.17  2512.87  2484.99  2488.43  393142.50\n",
       "2  2017-07-01 01:00 PM  2488.43  2488.43  2454.40  2454.43  693254.01\n",
       "3  2017-07-01 02:00 PM  2454.43  2473.93  2450.83  2459.35  712864.80\n",
       "4  2017-07-01 03:00 PM  2459.35  2475.00  2450.00  2467.83  682105.41"
      ]
     },
     "execution_count": 5,
     "metadata": {},
     "output_type": "execute_result"
    }
   ],
   "source": [
    "#df = load_csv('Bitfinex_BTCUSD_1h.csv')\n",
    "df = load_csv('Coinbase_BTCUSD_1h.csv')\n",
    "df.head()"
   ]
  },
  {
   "cell_type": "markdown",
   "metadata": {},
   "source": [
    "## Data Preparation\n",
    "### Create the dataset features"
   ]
  },
  {
   "cell_type": "code",
   "execution_count": 6,
   "metadata": {
    "scrolled": false
   },
   "outputs": [
    {
     "name": "stderr",
     "output_type": "stream",
     "text": [
      "/usr/local/lib/python3.8/dist-packages/ta/trend.py:780: RuntimeWarning: invalid value encountered in double_scalars\n",
      "  dip[idx] = 100 * (self._dip[idx] / value)\n",
      "/usr/local/lib/python3.8/dist-packages/ta/trend.py:785: RuntimeWarning: invalid value encountered in double_scalars\n",
      "  din[idx] = 100 * (self._din[idx] / value)\n"
     ]
    },
    {
     "data": {
      "text/html": [
       "<div>\n",
       "<style scoped>\n",
       "    .dataframe tbody tr th:only-of-type {\n",
       "        vertical-align: middle;\n",
       "    }\n",
       "\n",
       "    .dataframe tbody tr th {\n",
       "        vertical-align: top;\n",
       "    }\n",
       "\n",
       "    .dataframe thead th {\n",
       "        text-align: right;\n",
       "    }\n",
       "</style>\n",
       "<table border=\"1\" class=\"dataframe\">\n",
       "  <thead>\n",
       "    <tr style=\"text-align: right;\">\n",
       "      <th></th>\n",
       "      <th>date</th>\n",
       "      <th>open</th>\n",
       "      <th>high</th>\n",
       "      <th>low</th>\n",
       "      <th>close</th>\n",
       "      <th>volume</th>\n",
       "      <th>volume_adi</th>\n",
       "      <th>volume_obv</th>\n",
       "      <th>volume_cmf</th>\n",
       "      <th>volume_fi</th>\n",
       "      <th>...</th>\n",
       "      <th>momentum_ppo</th>\n",
       "      <th>momentum_ppo_signal</th>\n",
       "      <th>momentum_ppo_hist</th>\n",
       "      <th>momentum_pvo</th>\n",
       "      <th>momentum_pvo_signal</th>\n",
       "      <th>momentum_pvo_hist</th>\n",
       "      <th>momentum_kama</th>\n",
       "      <th>others_dr</th>\n",
       "      <th>others_dlr</th>\n",
       "      <th>others_cr</th>\n",
       "    </tr>\n",
       "  </thead>\n",
       "  <tbody>\n",
       "    <tr>\n",
       "      <th>0</th>\n",
       "      <td>2017-07-01 11:00 AM</td>\n",
       "      <td>2505.56</td>\n",
       "      <td>2513.38</td>\n",
       "      <td>2495.12</td>\n",
       "      <td>2509.17</td>\n",
       "      <td>287000.32</td>\n",
       "      <td>154659.537174</td>\n",
       "      <td>287000.32</td>\n",
       "      <td>0.538883</td>\n",
       "      <td>0.000000e+00</td>\n",
       "      <td>...</td>\n",
       "      <td>0.000000</td>\n",
       "      <td>0.000000</td>\n",
       "      <td>0.000000</td>\n",
       "      <td>0.000000</td>\n",
       "      <td>0.000000</td>\n",
       "      <td>0.000000</td>\n",
       "      <td>2509.170000</td>\n",
       "      <td>-65.047642</td>\n",
       "      <td>0.000000</td>\n",
       "      <td>0.000000</td>\n",
       "    </tr>\n",
       "    <tr>\n",
       "      <th>1</th>\n",
       "      <td>2017-07-01 12:00 PM</td>\n",
       "      <td>2509.17</td>\n",
       "      <td>2512.87</td>\n",
       "      <td>2484.99</td>\n",
       "      <td>2488.43</td>\n",
       "      <td>393142.50</td>\n",
       "      <td>-141466.449196</td>\n",
       "      <td>-106142.18</td>\n",
       "      <td>-0.207995</td>\n",
       "      <td>-8.153775e+06</td>\n",
       "      <td>...</td>\n",
       "      <td>-0.065977</td>\n",
       "      <td>-0.013195</td>\n",
       "      <td>-0.052782</td>\n",
       "      <td>2.871568</td>\n",
       "      <td>0.574314</td>\n",
       "      <td>2.297254</td>\n",
       "      <td>2500.178580</td>\n",
       "      <td>-0.826568</td>\n",
       "      <td>-0.830003</td>\n",
       "      <td>-0.826568</td>\n",
       "    </tr>\n",
       "    <tr>\n",
       "      <th>2</th>\n",
       "      <td>2017-07-01 01:00 PM</td>\n",
       "      <td>2488.43</td>\n",
       "      <td>2488.43</td>\n",
       "      <td>2454.40</td>\n",
       "      <td>2454.43</td>\n",
       "      <td>693254.01</td>\n",
       "      <td>-833498.148276</td>\n",
       "      <td>-799396.19</td>\n",
       "      <td>-0.606888</td>\n",
       "      <td>-1.035618e+07</td>\n",
       "      <td>...</td>\n",
       "      <td>-0.225431</td>\n",
       "      <td>-0.055643</td>\n",
       "      <td>-0.169789</td>\n",
       "      <td>12.006246</td>\n",
       "      <td>2.860700</td>\n",
       "      <td>9.145546</td>\n",
       "      <td>2480.168753</td>\n",
       "      <td>-1.366323</td>\n",
       "      <td>-1.375743</td>\n",
       "      <td>-2.181598</td>\n",
       "    </tr>\n",
       "  </tbody>\n",
       "</table>\n",
       "<p>3 rows × 92 columns</p>\n",
       "</div>"
      ],
      "text/plain": [
       "                  date     open     high      low    close     volume  \\\n",
       "0  2017-07-01 11:00 AM  2505.56  2513.38  2495.12  2509.17  287000.32   \n",
       "1  2017-07-01 12:00 PM  2509.17  2512.87  2484.99  2488.43  393142.50   \n",
       "2  2017-07-01 01:00 PM  2488.43  2488.43  2454.40  2454.43  693254.01   \n",
       "\n",
       "      volume_adi  volume_obv  volume_cmf     volume_fi  ...  momentum_ppo  \\\n",
       "0  154659.537174   287000.32    0.538883  0.000000e+00  ...      0.000000   \n",
       "1 -141466.449196  -106142.18   -0.207995 -8.153775e+06  ...     -0.065977   \n",
       "2 -833498.148276  -799396.19   -0.606888 -1.035618e+07  ...     -0.225431   \n",
       "\n",
       "   momentum_ppo_signal  momentum_ppo_hist  momentum_pvo  momentum_pvo_signal  \\\n",
       "0             0.000000           0.000000      0.000000             0.000000   \n",
       "1            -0.013195          -0.052782      2.871568             0.574314   \n",
       "2            -0.055643          -0.169789     12.006246             2.860700   \n",
       "\n",
       "   momentum_pvo_hist  momentum_kama  others_dr  others_dlr  others_cr  \n",
       "0           0.000000    2509.170000 -65.047642    0.000000   0.000000  \n",
       "1           2.297254    2500.178580  -0.826568   -0.830003  -0.826568  \n",
       "2           9.145546    2480.168753  -1.366323   -1.375743  -2.181598  \n",
       "\n",
       "[3 rows x 92 columns]"
      ]
     },
     "execution_count": 6,
     "metadata": {},
     "output_type": "execute_result"
    }
   ],
   "source": [
    "dataset = ta.add_all_ta_features(df, 'open', 'high', 'low', 'close', 'volume', fillna=True)\n",
    "dataset.head(3)"
   ]
  },
  {
   "cell_type": "markdown",
   "metadata": {},
   "source": [
    "### Create Chart Price History Data\n",
    "Note: It is recommended to create the chart data *after* creating and cleaning the dataset to ensure one-to-one mapping between the historical prices data and the dataset."
   ]
  },
  {
   "cell_type": "code",
   "execution_count": 7,
   "metadata": {
    "scrolled": true
   },
   "outputs": [
    {
     "data": {
      "text/html": [
       "<div>\n",
       "<style scoped>\n",
       "    .dataframe tbody tr th:only-of-type {\n",
       "        vertical-align: middle;\n",
       "    }\n",
       "\n",
       "    .dataframe tbody tr th {\n",
       "        vertical-align: top;\n",
       "    }\n",
       "\n",
       "    .dataframe thead th {\n",
       "        text-align: right;\n",
       "    }\n",
       "</style>\n",
       "<table border=\"1\" class=\"dataframe\">\n",
       "  <thead>\n",
       "    <tr style=\"text-align: right;\">\n",
       "      <th></th>\n",
       "      <th>date</th>\n",
       "      <th>open</th>\n",
       "      <th>high</th>\n",
       "      <th>low</th>\n",
       "      <th>close</th>\n",
       "      <th>volume</th>\n",
       "    </tr>\n",
       "  </thead>\n",
       "  <tbody>\n",
       "    <tr>\n",
       "      <th>0</th>\n",
       "      <td>2017-07-01 11:00 AM</td>\n",
       "      <td>2505.56</td>\n",
       "      <td>2513.38</td>\n",
       "      <td>2495.12</td>\n",
       "      <td>2509.17</td>\n",
       "      <td>287000.32</td>\n",
       "    </tr>\n",
       "    <tr>\n",
       "      <th>1</th>\n",
       "      <td>2017-07-01 12:00 PM</td>\n",
       "      <td>2509.17</td>\n",
       "      <td>2512.87</td>\n",
       "      <td>2484.99</td>\n",
       "      <td>2488.43</td>\n",
       "      <td>393142.50</td>\n",
       "    </tr>\n",
       "    <tr>\n",
       "      <th>2</th>\n",
       "      <td>2017-07-01 01:00 PM</td>\n",
       "      <td>2488.43</td>\n",
       "      <td>2488.43</td>\n",
       "      <td>2454.40</td>\n",
       "      <td>2454.43</td>\n",
       "      <td>693254.01</td>\n",
       "    </tr>\n",
       "  </tbody>\n",
       "</table>\n",
       "</div>"
      ],
      "text/plain": [
       "                  date     open     high      low    close     volume\n",
       "0  2017-07-01 11:00 AM  2505.56  2513.38  2495.12  2509.17  287000.32\n",
       "1  2017-07-01 12:00 PM  2509.17  2512.87  2484.99  2488.43  393142.50\n",
       "2  2017-07-01 01:00 PM  2488.43  2488.43  2454.40  2454.43  693254.01"
      ]
     },
     "metadata": {},
     "output_type": "display_data"
    }
   ],
   "source": [
    "price_history = dataset[['date', 'open', 'high', 'low', 'close', 'volume']]  # chart data\n",
    "display(price_history.head(3))\n",
    "\n",
    "dataset.drop(columns=['date', 'open', 'high', 'low', 'close', 'volume'], inplace=True)"
   ]
  },
  {
   "cell_type": "markdown",
   "metadata": {},
   "source": [
    "## Setup Trading Environment\n",
    "### Create Data Feeds"
   ]
  },
  {
   "cell_type": "code",
   "execution_count": 8,
   "metadata": {},
   "outputs": [
    {
     "data": {
      "text/plain": [
       "{'bitfinex:/volume_adi': 154659.5371741516,\n",
       " 'bitfinex:/volume_obv': 287000.32,\n",
       " 'bitfinex:/volume_cmf': 0.5388828039430464,\n",
       " 'bitfinex:/volume_fi': 0.0,\n",
       " 'bitfinex:/volume_em': 0.0,\n",
       " 'bitfinex:/volume_sma_em': 0.0,\n",
       " 'bitfinex:/volume_vpt': -187039.68188942783,\n",
       " 'bitfinex:/volume_vwap': 2505.89,\n",
       " 'bitfinex:/volume_mfi': 50.0,\n",
       " 'bitfinex:/volume_nvi': 1000.0,\n",
       " 'bitfinex:/volatility_bbm': 2509.17,\n",
       " 'bitfinex:/volatility_bbh': 2509.17,\n",
       " 'bitfinex:/volatility_bbl': 2509.17,\n",
       " 'bitfinex:/volatility_bbw': 0.0,\n",
       " 'bitfinex:/volatility_bbp': 0.0,\n",
       " 'bitfinex:/volatility_bbhi': 0.0,\n",
       " 'bitfinex:/volatility_bbli': 0.0,\n",
       " 'bitfinex:/volatility_kcc': 2505.89,\n",
       " 'bitfinex:/volatility_kch': 2524.15,\n",
       " 'bitfinex:/volatility_kcl': 2487.6299999999997,\n",
       " 'bitfinex:/volatility_kcw': 1.457366444656407,\n",
       " 'bitfinex:/volatility_kcp': 0.5898138006571786,\n",
       " 'bitfinex:/volatility_kchi': 0.0,\n",
       " 'bitfinex:/volatility_kcli': 0.0,\n",
       " 'bitfinex:/volatility_dcl': 2495.12,\n",
       " 'bitfinex:/volatility_dch': 2513.38,\n",
       " 'bitfinex:/volatility_dcm': 2504.25,\n",
       " 'bitfinex:/volatility_dcw': 0.7277306838516409,\n",
       " 'bitfinex:/volatility_dcp': 0.7694414019715232,\n",
       " 'bitfinex:/volatility_atr': 0.0,\n",
       " 'bitfinex:/volatility_ui': 0.0,\n",
       " 'bitfinex:/trend_macd': 0.0,\n",
       " 'bitfinex:/trend_macd_signal': 0.0,\n",
       " 'bitfinex:/trend_macd_diff': 0.0,\n",
       " 'bitfinex:/trend_sma_fast': 2509.17,\n",
       " 'bitfinex:/trend_sma_slow': 2509.17,\n",
       " 'bitfinex:/trend_ema_fast': 2509.17,\n",
       " 'bitfinex:/trend_ema_slow': 2509.17,\n",
       " 'bitfinex:/trend_vortex_ind_pos': 0.0,\n",
       " 'bitfinex:/trend_vortex_ind_neg': 0.0,\n",
       " 'bitfinex:/trend_vortex_ind_diff': 0.0,\n",
       " 'bitfinex:/trend_trix': -65.01958650947864,\n",
       " 'bitfinex:/trend_mass_index': 1.0,\n",
       " 'bitfinex:/trend_dpo': 4669.658895132018,\n",
       " 'bitfinex:/trend_kst': -650.4764166058512,\n",
       " 'bitfinex:/trend_kst_sig': -650.4764166058512,\n",
       " 'bitfinex:/trend_kst_diff': 0.0,\n",
       " 'bitfinex:/trend_ichimoku_conv': 2504.25,\n",
       " 'bitfinex:/trend_ichimoku_base': 2504.25,\n",
       " 'bitfinex:/trend_ichimoku_a': 2504.25,\n",
       " 'bitfinex:/trend_ichimoku_b': 2504.25,\n",
       " 'bitfinex:/trend_stc': 0.0,\n",
       " 'bitfinex:/trend_adx': 0.0,\n",
       " 'bitfinex:/trend_adx_pos': 0.0,\n",
       " 'bitfinex:/trend_adx_neg': 0.0,\n",
       " 'bitfinex:/trend_cci': 0.0,\n",
       " 'bitfinex:/trend_visual_ichimoku_a': 7164.427851548902,\n",
       " 'bitfinex:/trend_visual_ichimoku_b': 7151.343258415792,\n",
       " 'bitfinex:/trend_aroon_up': 4.0,\n",
       " 'bitfinex:/trend_aroon_down': 4.0,\n",
       " 'bitfinex:/trend_aroon_ind': 0.0,\n",
       " 'bitfinex:/trend_psar_up': 2385.0,\n",
       " 'bitfinex:/trend_psar_down': 2513.38,\n",
       " 'bitfinex:/trend_psar_up_indicator': 0.0,\n",
       " 'bitfinex:/trend_psar_down_indicator': 0.0,\n",
       " 'bitfinex:/momentum_rsi': 100.0,\n",
       " 'bitfinex:/momentum_stoch_rsi': 0.0,\n",
       " 'bitfinex:/momentum_stoch_rsi_k': 0.0,\n",
       " 'bitfinex:/momentum_stoch_rsi_d': 0.0,\n",
       " 'bitfinex:/momentum_tsi': 0.0,\n",
       " 'bitfinex:/momentum_uo': 0.0,\n",
       " 'bitfinex:/momentum_stoch': 76.94414019715232,\n",
       " 'bitfinex:/momentum_stoch_signal': 76.94414019715232,\n",
       " 'bitfinex:/momentum_wr': -23.055859802847678,\n",
       " 'bitfinex:/momentum_ao': 0.0,\n",
       " 'bitfinex:/momentum_roc': 0.0,\n",
       " 'bitfinex:/momentum_ppo': 0.0,\n",
       " 'bitfinex:/momentum_ppo_signal': 0.0,\n",
       " 'bitfinex:/momentum_ppo_hist': 0.0,\n",
       " 'bitfinex:/momentum_pvo': 0.0,\n",
       " 'bitfinex:/momentum_pvo_signal': 0.0,\n",
       " 'bitfinex:/momentum_pvo_hist': 0.0,\n",
       " 'bitfinex:/momentum_kama': 2509.17,\n",
       " 'bitfinex:/others_dr': -65.04764166058513,\n",
       " 'bitfinex:/others_dlr': 0.0,\n",
       " 'bitfinex:/others_cr': 0.0}"
      ]
     },
     "execution_count": 8,
     "metadata": {},
     "output_type": "execute_result"
    }
   ],
   "source": [
    "bitfinex = Exchange(\"bitfinex\", service=execute_order)(\n",
    "    Stream.source(price_history['close'].tolist(), dtype=\"float\").rename(\"USD-BTC\")\n",
    ")\n",
    "\n",
    "portfolio = Portfolio(USD, [\n",
    "    Wallet(bitfinex, 10000 * USD),\n",
    "    Wallet(bitfinex, 10 * BTC),\n",
    "])\n",
    "\n",
    "with NameSpace(\"bitfinex\"):\n",
    "    streams = [Stream.source(dataset[c].tolist(), dtype=\"float\").rename(c) for c in dataset.columns]\n",
    "\n",
    "feed = DataFeed(streams)\n",
    "feed.next()"
   ]
  },
  {
   "cell_type": "markdown",
   "metadata": {},
   "source": [
    "### Trading Environment Renderers\n",
    "A renderer is a channel for the trading environment to output its current state. One or more renderers can be attached to the environment at the same time. For example, you can let the environment draw a chart and log to a file at the same time.\n",
    "\n",
    "Notice that while all renderers can technically be used together, you need to select the best combination to avoid undesired results. For example, PlotlyTradingChart can work well with FileLogger but may not display well with ScreenLogger.\n",
    "\n",
    "Renderer can be set by name (string) or class, single or list. Available renderers are:\n",
    "* `'screenlog'` or `ScreenLogger`: Shows results on the screen.\n",
    "* `'filelog'` or `FileLogger`: Logs results to a file.\n",
    "* `'plotly'` or `PlotlyTradingChart`: A trading chart based on Plotly.\n",
    "\n",
    "#### Examples:\n",
    "\n",
    "* renderers = 'screenlog' (default)\n",
    "* renderers = ['screenlog', 'filelog']\n",
    "* renderers = ScreenLogger()\n",
    "* renderers = ['screenlog', `FileLogger()`]\n",
    "* renderers = [`FileLogger(filename='example.log')`]\n",
    "\n",
    "Renderers can also be created and configured first then attached to the environment as seen in a following example.\n",
    "\n",
    "### Trading Environment with a Single Renderer"
   ]
  },
  {
   "cell_type": "code",
   "execution_count": 9,
   "metadata": {},
   "outputs": [],
   "source": [
    "import tensortrade.env.default as default\n",
    "\n",
    "env = default.create(\n",
    "    portfolio=portfolio,\n",
    "    action_scheme=\"managed-risk\",\n",
    "    reward_scheme=\"risk-adjusted\",\n",
    "    feed=feed,\n",
    "    renderer=\"screen-log\",  # ScreenLogger used with default settings\n",
    "    window_size=20\n",
    ")"
   ]
  },
  {
   "cell_type": "code",
   "execution_count": 10,
   "metadata": {
    "scrolled": false
   },
   "outputs": [
    {
     "name": "stderr",
     "output_type": "stream",
     "text": [
      "/tmp/ipykernel_228/624912549.py:3: DeprecationWarning: Call to deprecated class DQNAgent. (Builtin agents are being deprecated in favor of external implementations (ie: Ray)) -- Deprecated since version 1.0.4.\n",
      "  agent = DQNAgent(env)\n",
      "2023-02-26 20:40:34.977633: W tensorflow/compiler/xla/stream_executor/platform/default/dso_loader.cc:64] Could not load dynamic library 'libcuda.so.1'; dlerror: libcuda.so.1: cannot open shared object file: No such file or directory\n",
      "2023-02-26 20:40:34.977685: W tensorflow/compiler/xla/stream_executor/cuda/cuda_driver.cc:265] failed call to cuInit: UNKNOWN ERROR (303)\n",
      "2023-02-26 20:40:34.977716: I tensorflow/compiler/xla/stream_executor/cuda/cuda_diagnostics.cc:156] kernel driver does not appear to be running on this host (4943dccc203e): /proc/driver/nvidia/version does not exist\n",
      "2023-02-26 20:40:34.977909: I tensorflow/core/platform/cpu_feature_guard.cc:193] This TensorFlow binary is optimized with oneAPI Deep Neural Network Library (oneDNN) to use the following CPU instructions in performance-critical operations:  AVX2 FMA\n",
      "To enable them in other operations, rebuild TensorFlow with the appropriate compiler flags.\n"
     ]
    },
    {
     "name": "stdout",
     "output_type": "stream",
     "text": [
      "====      AGENT ID: 72de9d87-b12f-46ce-90c5-c8aba3525b00      ====\n",
      "[2023-02-26 20:40:52] Episode: 2/2 Step: 11/200\n",
      "[2023-02-26 20:41:00] Episode: 2/2 Step: 21/200\n",
      "[2023-02-26 20:41:07] Episode: 2/2 Step: 31/200\n",
      "[2023-02-26 20:41:15] Episode: 2/2 Step: 41/200\n",
      "[2023-02-26 20:41:23] Episode: 2/2 Step: 51/200\n",
      "[2023-02-26 20:41:31] Episode: 2/2 Step: 61/200\n",
      "[2023-02-26 20:41:39] Episode: 2/2 Step: 71/200\n",
      "[2023-02-26 20:41:46] Episode: 2/2 Step: 81/200\n",
      "[2023-02-26 20:41:54] Episode: 2/2 Step: 91/200\n",
      "[2023-02-26 20:42:02] Episode: 2/2 Step: 101/200\n",
      "[2023-02-26 20:42:10] Episode: 2/2 Step: 111/200\n",
      "[2023-02-26 20:42:18] Episode: 2/2 Step: 121/200\n",
      "[2023-02-26 20:42:26] Episode: 2/2 Step: 131/200\n",
      "[2023-02-26 20:42:34] Episode: 2/2 Step: 141/200\n",
      "[2023-02-26 20:42:42] Episode: 2/2 Step: 151/200\n",
      "[2023-02-26 20:42:49] Episode: 2/2 Step: 161/200\n",
      "[2023-02-26 20:42:57] Episode: 2/2 Step: 171/200\n",
      "[2023-02-26 20:43:05] Episode: 2/2 Step: 181/200\n",
      "[2023-02-26 20:43:13] Episode: 2/2 Step: 191/200\n",
      "[2023-02-26 20:43:21] Episode: 2/2 Step: 201/200\n",
      "WARNING:tensorflow:Compiled the loaded model, but the compiled metrics have yet to be built. `model.compile_metrics` will be empty until you train or evaluate the model.\n"
     ]
    },
    {
     "name": "stderr",
     "output_type": "stream",
     "text": [
      "WARNING:tensorflow:Compiled the loaded model, but the compiled metrics have yet to be built. `model.compile_metrics` will be empty until you train or evaluate the model.\n"
     ]
    },
    {
     "data": {
      "text/plain": [
       "-475204.99865388265"
      ]
     },
     "execution_count": 10,
     "metadata": {},
     "output_type": "execute_result"
    }
   ],
   "source": [
    "#from tensortrade.agents import DQNAgent\n",
    "\n",
    "#agent = DQNAgent(env)\n",
    "#agent.train(n_episodes=2, n_steps=200, render_interval=10)"
   ]
  },
  {
   "cell_type": "markdown",
   "metadata": {},
   "source": [
    "### Environment with Multiple Renderers\n",
    "Create PlotlyTradingChart and FileLogger renderers. Configuring renderers is optional as they can be used with their default settings."
   ]
  },
  {
   "cell_type": "code",
   "execution_count": 11,
   "metadata": {},
   "outputs": [],
   "source": [
    "from tensortrade.env.default.renderers import PlotlyTradingChart, FileLogger\n",
    "\n",
    "chart_renderer = PlotlyTradingChart(\n",
    "    display=True,  # show the chart on screen (default)\n",
    "    height=800,  # affects both displayed and saved file height. None for 100% height.\n",
    "    save_format=\"html\",  # save the chart to an HTML file\n",
    "    auto_open_html=True,  # open the saved HTML chart in a new browser tab\n",
    ")\n",
    "\n",
    "file_logger = FileLogger(\n",
    "    filename=\"example.log\",  # omit or None for automatic file name\n",
    "    path=\"training_logs\"  # create a new directory if doesn't exist, None for no directory\n",
    ")"
   ]
  },
  {
   "cell_type": "markdown",
   "metadata": {},
   "source": [
    "### Environement with Multiple Renderers\n",
    "\n",
    "With the plotly renderer you must provide an parameter called `renderer_feed`. This is a `DataFeed` instance that provides all the information that is required by a renderer to function."
   ]
  },
  {
   "cell_type": "code",
   "execution_count": 12,
   "metadata": {},
   "outputs": [],
   "source": [
    "renderer_feed = DataFeed([\n",
    "    Stream.source(price_history[c].tolist(), dtype=\"float\").rename(c) for c in price_history]\n",
    ")\n",
    "\n",
    "env = default.create(\n",
    "    portfolio=portfolio,\n",
    "    action_scheme=\"managed-risk\",\n",
    "    reward_scheme=\"risk-adjusted\",\n",
    "    feed=feed,\n",
    "    window_size=20,\n",
    "    renderer_feed=renderer_feed,\n",
    "    renderer=[\n",
    "        chart_renderer, \n",
    "        file_logger\n",
    "    ]\n",
    ")"
   ]
  },
  {
   "cell_type": "code",
   "execution_count": 13,
   "metadata": {},
   "outputs": [
    {
     "data": {
      "text/plain": [
       "<tensortrade.feed.core.feed.DataFeed at 0x7f98100f7460>"
      ]
     },
     "execution_count": 13,
     "metadata": {},
     "output_type": "execute_result"
    }
   ],
   "source": [
    "renderer_feed"
   ]
  },
  {
   "cell_type": "markdown",
   "metadata": {},
   "source": [
    "## Setup and Train DQN Agent\n",
    "The green and red arrows shown on the chart represent buy and sell trades respectively. The head of each arrow falls at the trade execution price."
   ]
  },
  {
   "cell_type": "code",
   "execution_count": 14,
   "metadata": {
    "scrolled": false
   },
   "outputs": [
    {
     "name": "stderr",
     "output_type": "stream",
     "text": [
      "/tmp/ipykernel_228/1440734842.py:3: DeprecationWarning: Call to deprecated class DQNAgent. (Builtin agents are being deprecated in favor of external implementations (ie: Ray)) -- Deprecated since version 1.0.4.\n",
      "  agent = DQNAgent(env)\n"
     ]
    },
    {
     "name": "stdout",
     "output_type": "stream",
     "text": [
      "====      AGENT ID: d1337eed-03ec-4c16-a7ee-3049e3c21e96      ====\n"
     ]
    },
    {
     "ename": "AttributeError",
     "evalue": "'NoneType' object has no attribute 'write_html'",
     "output_type": "error",
     "traceback": [
      "\u001b[0;31m---------------------------------------------------------------------------\u001b[0m",
      "\u001b[0;31mAttributeError\u001b[0m                            Traceback (most recent call last)",
      "Cell \u001b[0;32mIn[14], line 6\u001b[0m\n\u001b[1;32m      3\u001b[0m agent \u001b[38;5;241m=\u001b[39m DQNAgent(env)\n\u001b[1;32m      5\u001b[0m \u001b[38;5;66;03m# Set render_interval to None to render at episode ends only\u001b[39;00m\n\u001b[0;32m----> 6\u001b[0m \u001b[43magent\u001b[49m\u001b[38;5;241;43m.\u001b[39;49m\u001b[43mtrain\u001b[49m\u001b[43m(\u001b[49m\u001b[43mn_episodes\u001b[49m\u001b[38;5;241;43m=\u001b[39;49m\u001b[38;5;241;43m2\u001b[39;49m\u001b[43m,\u001b[49m\u001b[43m \u001b[49m\u001b[43mn_steps\u001b[49m\u001b[38;5;241;43m=\u001b[39;49m\u001b[38;5;241;43m200\u001b[39;49m\u001b[43m,\u001b[49m\u001b[43m \u001b[49m\u001b[43mrender_interval\u001b[49m\u001b[38;5;241;43m=\u001b[39;49m\u001b[38;5;241;43m10\u001b[39;49m\u001b[43m)\u001b[49m\n",
      "File \u001b[0;32m/usr/local/lib/python3.8/dist-packages/tensortrade/agents/dqn_agent.py:363\u001b[0m, in \u001b[0;36mDQNAgent.train\u001b[0;34m(self, n_steps, n_episodes, save_every, save_path, callback, **kwargs)\u001b[0m\n\u001b[1;32m    356\u001b[0m     \u001b[38;5;28;01mif\u001b[39;00m \u001b[38;5;129;01mnot\u001b[39;00m render_interval \u001b[38;5;129;01mor\u001b[39;00m steps_done \u001b[38;5;241m<\u001b[39m n_steps:\n\u001b[1;32m    357\u001b[0m         \u001b[38;5;28mself\u001b[39m\u001b[38;5;241m.\u001b[39menv\u001b[38;5;241m.\u001b[39mrender(\n\u001b[1;32m    358\u001b[0m             episode\u001b[38;5;241m=\u001b[39mepisode,\n\u001b[1;32m    359\u001b[0m             max_episodes\u001b[38;5;241m=\u001b[39mn_episodes,\n\u001b[1;32m    360\u001b[0m             max_steps\u001b[38;5;241m=\u001b[39mn_steps\n\u001b[1;32m    361\u001b[0m         )  \u001b[38;5;66;03m# renderers final state at episode end if not rendered earlier\u001b[39;00m\n\u001b[0;32m--> 363\u001b[0m     \u001b[38;5;28;43mself\u001b[39;49m\u001b[38;5;241;43m.\u001b[39;49m\u001b[43menv\u001b[49m\u001b[38;5;241;43m.\u001b[39;49m\u001b[43msave\u001b[49m\u001b[43m(\u001b[49m\u001b[43m)\u001b[49m\n\u001b[1;32m    365\u001b[0m     episode \u001b[38;5;241m+\u001b[39m\u001b[38;5;241m=\u001b[39m \u001b[38;5;241m1\u001b[39m\n\u001b[1;32m    367\u001b[0m mean_reward \u001b[38;5;241m=\u001b[39m total_reward \u001b[38;5;241m/\u001b[39m steps_done\n",
      "File \u001b[0;32m/usr/local/lib/python3.8/dist-packages/tensortrade/env/generic/environment.py:177\u001b[0m, in \u001b[0;36mTradingEnv.save\u001b[0;34m(self)\u001b[0m\n\u001b[1;32m    175\u001b[0m \u001b[38;5;28;01mdef\u001b[39;00m \u001b[38;5;21msave\u001b[39m(\u001b[38;5;28mself\u001b[39m) \u001b[38;5;241m-\u001b[39m\u001b[38;5;241m>\u001b[39m \u001b[38;5;28;01mNone\u001b[39;00m:\n\u001b[1;32m    176\u001b[0m \u001b[38;5;250m    \u001b[39m\u001b[38;5;124;03m\"\"\"Saves the rendered view of the environment.\"\"\"\u001b[39;00m\n\u001b[0;32m--> 177\u001b[0m     \u001b[38;5;28;43mself\u001b[39;49m\u001b[38;5;241;43m.\u001b[39;49m\u001b[43mrenderer\u001b[49m\u001b[38;5;241;43m.\u001b[39;49m\u001b[43msave\u001b[49m\u001b[43m(\u001b[49m\u001b[43m)\u001b[49m\n",
      "File \u001b[0;32m/usr/local/lib/python3.8/dist-packages/tensortrade/env/generic/components/renderer.py:78\u001b[0m, in \u001b[0;36mAggregateRenderer.save\u001b[0;34m(self)\u001b[0m\n\u001b[1;32m     76\u001b[0m \u001b[38;5;28;01mdef\u001b[39;00m \u001b[38;5;21msave\u001b[39m(\u001b[38;5;28mself\u001b[39m) \u001b[38;5;241m-\u001b[39m\u001b[38;5;241m>\u001b[39m \u001b[38;5;28;01mNone\u001b[39;00m:\n\u001b[1;32m     77\u001b[0m     \u001b[38;5;28;01mfor\u001b[39;00m r \u001b[38;5;129;01min\u001b[39;00m \u001b[38;5;28mself\u001b[39m\u001b[38;5;241m.\u001b[39mrenderers:\n\u001b[0;32m---> 78\u001b[0m         \u001b[43mr\u001b[49m\u001b[38;5;241;43m.\u001b[39;49m\u001b[43msave\u001b[49m\u001b[43m(\u001b[49m\u001b[43m)\u001b[49m\n",
      "File \u001b[0;32m/usr/local/lib/python3.8/dist-packages/tensortrade/env/default/renderers.py:550\u001b[0m, in \u001b[0;36mPlotlyTradingChart.save\u001b[0;34m(self)\u001b[0m\n\u001b[1;32m    548\u001b[0m filename \u001b[38;5;241m=\u001b[39m os\u001b[38;5;241m.\u001b[39mpath\u001b[38;5;241m.\u001b[39mjoin(\u001b[38;5;28mself\u001b[39m\u001b[38;5;241m.\u001b[39m_path, filename)\n\u001b[1;32m    549\u001b[0m \u001b[38;5;28;01mif\u001b[39;00m \u001b[38;5;28mself\u001b[39m\u001b[38;5;241m.\u001b[39m_save_format \u001b[38;5;241m==\u001b[39m \u001b[38;5;124m'\u001b[39m\u001b[38;5;124mhtml\u001b[39m\u001b[38;5;124m'\u001b[39m:\n\u001b[0;32m--> 550\u001b[0m     \u001b[38;5;28;43mself\u001b[39;49m\u001b[38;5;241;43m.\u001b[39;49m\u001b[43mfig\u001b[49m\u001b[38;5;241;43m.\u001b[39;49m\u001b[43mwrite_html\u001b[49m(file\u001b[38;5;241m=\u001b[39mfilename, include_plotlyjs\u001b[38;5;241m=\u001b[39m\u001b[38;5;124m'\u001b[39m\u001b[38;5;124mcdn\u001b[39m\u001b[38;5;124m'\u001b[39m, auto_open\u001b[38;5;241m=\u001b[39m\u001b[38;5;28mself\u001b[39m\u001b[38;5;241m.\u001b[39m_auto_open_html)\n\u001b[1;32m    551\u001b[0m \u001b[38;5;28;01melse\u001b[39;00m:\n\u001b[1;32m    552\u001b[0m     \u001b[38;5;28mself\u001b[39m\u001b[38;5;241m.\u001b[39mfig\u001b[38;5;241m.\u001b[39mwrite_image(filename)\n",
      "\u001b[0;31mAttributeError\u001b[0m: 'NoneType' object has no attribute 'write_html'"
     ]
    }
   ],
   "source": [
    "from tensortrade.agents import DQNAgent\n",
    "\n",
    "agent = DQNAgent(env)\n",
    "\n",
    "# Set render_interval to None to render at episode ends only\n",
    "agent.train(n_episodes=2, n_steps=200, render_interval=10)"
   ]
  },
  {
   "cell_type": "markdown",
   "metadata": {},
   "source": [
    "## Direct Performance and Net Worth Plotting\n",
    "Alternatively, the final performance and net worth can be displayed using pandas via Matplotlib."
   ]
  },
  {
   "cell_type": "code",
   "execution_count": null,
   "metadata": {},
   "outputs": [],
   "source": [
    "%matplotlib inline\n",
    "\n",
    "performance = pd.DataFrame.from_dict(env.action_scheme.portfolio.performance, orient='index')\n",
    "performance.plot()"
   ]
  },
  {
   "cell_type": "code",
   "execution_count": null,
   "metadata": {},
   "outputs": [],
   "source": [
    "performance.net_worth.plot()"
   ]
  },
  {
   "cell_type": "code",
   "execution_count": null,
   "metadata": {},
   "outputs": [],
   "source": []
  }
 ],
 "metadata": {
  "kernelspec": {
   "display_name": "Python 3 (ipykernel)",
   "language": "python",
   "name": "python3"
  },
  "language_info": {
   "codemirror_mode": {
    "name": "ipython",
    "version": 3
   },
   "file_extension": ".py",
   "mimetype": "text/x-python",
   "name": "python",
   "nbconvert_exporter": "python",
   "pygments_lexer": "ipython3",
   "version": "3.8.10"
  }
 },
 "nbformat": 4,
 "nbformat_minor": 4
}
