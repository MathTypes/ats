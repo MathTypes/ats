{
 "cells": [
  {
   "cell_type": "markdown",
   "id": "14f5686c-449b-4376-8c58-fc8141f4b0f8",
   "metadata": {},
   "source": [
    "# Forecasting at Scale\n",
    "\n",
    "> Installation instructions."
   ]
  }
 ],
 "metadata": {
  "kernelspec": {
   "display_name": "python3",
   "language": "python",
   "name": "python3"
  }
 },
 "nbformat": 4,
 "nbformat_minor": 5
}
