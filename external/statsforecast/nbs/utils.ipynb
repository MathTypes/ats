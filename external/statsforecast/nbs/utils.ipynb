{
 "cells": [
  {
   "cell_type": "code",
   "execution_count": null,
   "metadata": {},
   "outputs": [],
   "source": [
    "#| default_exp utils"
   ]
  },
  {
   "cell_type": "code",
   "execution_count": null,
   "metadata": {},
   "outputs": [],
   "source": [
    "#| hide\n",
    "%load_ext autoreload\n",
    "%autoreload 2"
   ]
  },
  {
   "cell_type": "markdown",
   "metadata": {},
   "source": [
    "# Utils\n",
    "\n",
    "> The `core.StatsForecast` class allows you to efficiently fit multiple `StatsForecast` models for large sets of time series. It operates with pandas DataFrame `df` that identifies individual series and datestamps with the `unique_id` and `ds` columns, and the `y` column denotes the target time series variable. To assist development, we declare useful datasets that we use throughout all `StatsForecast`'s unit tests.<br><br>"
   ]
  },
  {
   "cell_type": "code",
   "execution_count": null,
   "metadata": {},
   "outputs": [],
   "source": [
    "#| export\n",
    "import random\n",
    "from itertools import chain\n",
    "\n",
    "import numpy as np\n",
    "import pandas as pd\n",
    "from scipy.stats import norm\n",
    "from numba import njit"
   ]
  },
  {
   "cell_type": "code",
   "execution_count": null,
   "metadata": {},
   "outputs": [],
   "source": [
    "#| hide\n",
    "import matplotlib.pyplot as plt\n",
    "\n",
    "from nbdev.showdoc import add_docs, show_doc"
   ]
  },
  {
   "cell_type": "markdown",
   "metadata": {},
   "source": [
    "# <span style=\"color:DarkBlue\">1. Synthetic Panel Data </span>"
   ]
  },
  {
   "cell_type": "code",
   "execution_count": null,
   "metadata": {},
   "outputs": [],
   "source": [
    "#| export\n",
    "def generate_series(n_series: int,\n",
    "                    freq: str = 'D',\n",
    "                    min_length: int = 50,\n",
    "                    max_length: int = 500,\n",
    "                    n_static_features: int = 0,\n",
    "                    equal_ends: bool = False,\n",
    "                    seed: int = 0) -> pd.DataFrame:\n",
    "    \"\"\"Generate Synthetic Panel Series.\n",
    "\n",
    "    Generates `n_series` of frequency `freq` of different lengths in the interval [`min_length`, `max_length`].\n",
    "    If `n_static_features > 0`, then each serie gets static features with random values.\n",
    "    If `equal_ends == True` then all series end at the same date.\n",
    "\n",
    "    **Parameters:**<br>\n",
    "    `n_series`: int, number of series for synthetic panel.<br>\n",
    "    `min_length`: int, minimal length of synthetic panel's series.<br>\n",
    "    `max_length`: int, minimal length of synthetic panel's series.<br>\n",
    "    `n_static_features`: int, default=0, number of static exogenous variables for synthetic panel's series.<br>\n",
    "    `equal_ends`: bool, if True, series finish in the same date stamp `ds`.<br>\n",
    "    `freq`: str, frequency of the data, [panda's available frequencies](https://pandas.pydata.org/pandas-docs/stable/user_guide/timeseries.html#offset-aliases).<br>\n",
    "\n",
    "    **Returns:**<br>\n",
    "    `freq`: pandas.DataFrame, synthetic panel with columns [`unique_id`, `ds`, `y`] and exogenous.\n",
    "    \"\"\"\n",
    "    seasonalities = {'D': 7, 'M': 12}\n",
    "    season = seasonalities[freq]\n",
    "    \n",
    "    rng = np.random.RandomState(seed)\n",
    "    series_lengths = rng.randint(min_length, max_length + 1, n_series)\n",
    "    total_length = series_lengths.sum()\n",
    "\n",
    "    dates = pd.date_range('2000-01-01', periods=max_length, freq=freq).values\n",
    "    uids = [\n",
    "        np.repeat(i, serie_length) for i, serie_length in enumerate(series_lengths)\n",
    "    ]\n",
    "    if equal_ends:\n",
    "        ds = [dates[-serie_length:] for serie_length in series_lengths]\n",
    "    else:\n",
    "        ds = [dates[:serie_length] for serie_length in series_lengths]\n",
    "    y = np.arange(total_length) % season + rng.rand(total_length) * 0.5\n",
    "    series = pd.DataFrame(\n",
    "        {\n",
    "            'unique_id': chain.from_iterable(uids),\n",
    "            'ds': chain.from_iterable(ds),\n",
    "            'y': y,\n",
    "        }\n",
    "    )\n",
    "    for i in range(n_static_features):\n",
    "        random.seed(seed)\n",
    "        static_values = [\n",
    "            [random.randint(0, 100)] * serie_length for serie_length in series_lengths\n",
    "        ]\n",
    "        series[f'static_{i}'] = np.hstack(static_values)\n",
    "        series[f'static_{i}'] = series[f'static_{i}'].astype('category')\n",
    "        if i == 0:\n",
    "            series['y'] = series['y'] * (1 + series[f'static_{i}'].cat.codes)\n",
    "    series['unique_id'] = series['unique_id'].astype('category')\n",
    "    series['unique_id'] = series['unique_id'].cat.as_ordered()\n",
    "    series = series.set_index('unique_id')\n",
    "    return series"
   ]
  },
  {
   "cell_type": "code",
   "execution_count": null,
   "metadata": {},
   "outputs": [],
   "source": [
    "show_doc(generate_series, title_level=3)"
   ]
  },
  {
   "cell_type": "code",
   "execution_count": null,
   "metadata": {},
   "outputs": [],
   "source": [
    "from statsforecast.utils import generate_series\n",
    "\n",
    "synthetic_panel = generate_series(n_series=2)\n",
    "synthetic_panel.groupby('unique_id').head(4)"
   ]
  },
  {
   "cell_type": "markdown",
   "metadata": {},
   "source": [
    "# <span style=\"color:DarkBlue\">2. AirPassengers Data </span>\n",
    "\n",
    "The classic Box & Jenkins airline data. Monthly totals of international airline passengers, 1949 to 1960.\n",
    "\n",
    "It has been used as a reference on several forecasting libraries, since it is a series that shows clear trends and seasonalities it offers a nice opportunity to quickly showcase a model's predictions performance."
   ]
  },
  {
   "cell_type": "code",
   "execution_count": null,
   "metadata": {},
   "outputs": [],
   "source": [
    "#| export\n",
    "AirPassengers = np.array([112., 118., 132., 129., 121., 135., 148., 148., 136., 119., 104.,\n",
    "                          118., 115., 126., 141., 135., 125., 149., 170., 170., 158., 133.,\n",
    "                          114., 140., 145., 150., 178., 163., 172., 178., 199., 199., 184.,\n",
    "                          162., 146., 166., 171., 180., 193., 181., 183., 218., 230., 242.,\n",
    "                          209., 191., 172., 194., 196., 196., 236., 235., 229., 243., 264.,\n",
    "                          272., 237., 211., 180., 201., 204., 188., 235., 227., 234., 264.,\n",
    "                          302., 293., 259., 229., 203., 229., 242., 233., 267., 269., 270.,\n",
    "                          315., 364., 347., 312., 274., 237., 278., 284., 277., 317., 313.,\n",
    "                          318., 374., 413., 405., 355., 306., 271., 306., 315., 301., 356.,\n",
    "                          348., 355., 422., 465., 467., 404., 347., 305., 336., 340., 318.,\n",
    "                          362., 348., 363., 435., 491., 505., 404., 359., 310., 337., 360.,\n",
    "                          342., 406., 396., 420., 472., 548., 559., 463., 407., 362., 405.,\n",
    "                          417., 391., 419., 461., 472., 535., 622., 606., 508., 461., 390.,\n",
    "                          432.])"
   ]
  },
  {
   "cell_type": "code",
   "execution_count": null,
   "metadata": {},
   "outputs": [],
   "source": [
    "#| export\n",
    "AirPassengersDF = pd.DataFrame({'unique_id': np.ones(len(AirPassengers)),\n",
    "                                'ds': pd.date_range(start='1949-01-01',\n",
    "                                                    periods=len(AirPassengers), freq='M'),\n",
    "                                'y': AirPassengers})"
   ]
  },
  {
   "cell_type": "code",
   "execution_count": null,
   "metadata": {},
   "outputs": [],
   "source": [
    "from statsforecast.utils import AirPassengersDF\n",
    "\n",
    "AirPassengersDF.head(12)"
   ]
  },
  {
   "cell_type": "code",
   "execution_count": null,
   "metadata": {},
   "outputs": [],
   "source": [
    "#We are going to plot the ARIMA predictions, and the prediction intervals.\n",
    "fig, ax = plt.subplots(1, 1, figsize = (20, 7))\n",
    "plot_df = AirPassengersDF.set_index('ds')\n",
    "\n",
    "plot_df[['y']].plot(ax=ax, linewidth=2)\n",
    "ax.set_title('AirPassengers Forecast', fontsize=22)\n",
    "ax.set_ylabel('Monthly Passengers', fontsize=20)\n",
    "ax.set_xlabel('Timestamp [t]', fontsize=20)\n",
    "ax.legend(prop={'size': 15})\n",
    "ax.grid()"
   ]
  },
  {
   "cell_type": "markdown",
   "metadata": {},
   "source": [
    "## Model utils"
   ]
  },
  {
   "cell_type": "code",
   "execution_count": null,
   "metadata": {},
   "outputs": [],
   "source": [
    "#| exporti\n",
    "\n",
    "@njit\n",
    "def _repeat_val_seas(season_vals: np.ndarray, h: int, season_length: int):\n",
    "    out = np.empty(h, np.float32)\n",
    "    for i in range(h):\n",
    "        out[i] = season_vals[i % season_length]\n",
    "    return out\n",
    "\n",
    "@njit\n",
    "def _seasonal_naive(\n",
    "        y: np.ndarray, # time series\n",
    "        h: int, # forecasting horizon\n",
    "        fitted: bool, #fitted values\n",
    "        season_length: int, # season length\n",
    "    ): \n",
    "    if y.size < season_length:\n",
    "        return {'mean': np.full(h, np.nan, np.float32)}\n",
    "    n = y.size\n",
    "    season_vals = np.empty(season_length, np.float32)\n",
    "    fitted_vals = np.full(y.size, np.nan, np.float32)\n",
    "    for i in range(season_length):\n",
    "        s_naive = _naive(y[(i +  n % season_length)::season_length], h=1, fitted=fitted)\n",
    "        season_vals[i] = s_naive['mean'].item()\n",
    "        if fitted:\n",
    "            fitted_vals[(i +  n % season_length)::season_length] = s_naive['fitted']\n",
    "    out = _repeat_val_seas(season_vals=season_vals, h=h, season_length=season_length)\n",
    "    fcst = {'mean': out}\n",
    "    if fitted:\n",
    "        fcst['fitted'] = fitted_vals[-n:]\n",
    "    return fcst\n",
    "\n",
    "@njit\n",
    "def _repeat_val(val: float, h: int):\n",
    "    return np.full(h, val, np.float32)\n",
    "\n",
    "@njit\n",
    "def _naive(\n",
    "        y: np.ndarray, # time series\n",
    "        h: int, # forecasting horizon\n",
    "        fitted: bool, # fitted values\n",
    "    ): \n",
    "    mean = _repeat_val(val=y[-1], h=h)\n",
    "    if fitted:\n",
    "        fitted_vals = np.full(y.size, np.nan, np.float32)\n",
    "        fitted_vals[1:] = np.roll(y, 1)[1:]\n",
    "        return {'mean': mean, 'fitted': fitted_vals}\n",
    "    return {'mean': mean}"
   ]
  },
  {
   "cell_type": "code",
   "execution_count": null,
   "metadata": {},
   "outputs": [],
   "source": [
    "#| hide\n",
    "# test seasonal naive\n",
    "y = np.array([0.50187596, 0.40536128, 0.33436676, 0.27868117, 0.25251294,\n",
    "       0.18961286, 0.07082107, 2.58699709, 3.06466854, 2.25150509,\n",
    "       1.33027107, 0.73332616, 0.50187596, 0.40536128, 0.33436676,\n",
    "       0.27868117, 0.25251294, 0.18961286, 0.07082107, 2.58699709,\n",
    "       3.06466854, 2.25150509, 1.33027107, 0.73332616, 0.50187596,\n",
    "       0.40536128, 0.33436676, 0.27868117, 0.25251294, 0.18961286,\n",
    "       0.07082107, 2.58699709, 3.06466854, 2.25150509, 1.33027107,\n",
    "       0.73332616, 0.50187596, 0.40536128, 0.33436676, 0.27868117,\n",
    "       0.25251294, 0.18961286, 0.07082107, 2.58699709, 3.06466854,\n",
    "       2.25150509, 1.33027107, 0.73332616, 0.50187596, 0.40536128,\n",
    "       0.33436676, 0.27868117, 0.25251294, 0.18961286, 0.07082107,\n",
    "       2.58699709, 3.06466854, 2.25150509, 1.33027107, 0.73332616,\n",
    "       0.50187596, 0.40536128, 0.33436676, 0.27868117, 0.25251294,\n",
    "       0.18961286, 0.07082107, 2.58699709, 3.06466854, 2.25150509,\n",
    "       1.33027107, 0.73332616, 0.50187596, 0.40536128, 0.33436676,\n",
    "       0.27868117, 0.25251294, 0.18961286, 0.07082107, 2.58699709,\n",
    "       3.06466854, 2.25150509, 1.33027107, 0.73332616, 0.50187596,\n",
    "       0.40536128, 0.33436676, 0.27868117, 0.25251294, 0.18961286,\n",
    "       0.07082107, 2.58699709, 3.06466854, 2.25150509, 1.33027107,\n",
    "       0.73332616, 0.50187596, 0.40536128, 0.33436676, 0.27868117,\n",
    "       0.25251294, 0.18961286, 0.07082107, 2.58699709, 3.06466854,\n",
    "       2.25150509, 1.33027107, 0.73332616, 0.50187596, 0.40536128,\n",
    "       0.33436676, 0.27868117, 0.25251294, 0.18961286, 0.07082107,\n",
    "       2.58699709, 3.06466854, 2.25150509, 1.33027107, 0.73332616,\n",
    "       0.50187596, 0.40536128, 0.33436676, 0.27868117, 0.25251294,\n",
    "       0.18961286])\n",
    "seas_naive_fcst = dict(_seasonal_naive(y=y, h=12, season_length=12, fitted=True))['mean']\n",
    "np.testing.assert_array_almost_equal(seas_naive_fcst, y[-12:])\n",
    "\n",
    "\n",
    "y = np.array([0.05293832, 0.10395079, 0.25626143, 0.61529232, 1.08816604,\n",
    "       0.54493457, 0.43415014, 0.47676606, 5.32806397, 3.00553563,\n",
    "       0.04473598, 0.04920475, 0.05293832, 0.10395079, 0.25626143,\n",
    "       0.61529232, 1.08816604, 0.54493457, 0.43415014, 0.47676606,\n",
    "       5.32806397, 3.00553563, 0.04473598, 0.04920475, 0.05293832,\n",
    "       0.10395079, 0.25626143, 0.61529232, 1.08816604, 0.54493457,\n",
    "       0.43415014, 0.47676606, 5.32806397, 3.00553563, 0.04473598,\n",
    "       0.04920475, 0.05293832, 0.10395079, 0.25626143, 0.61529232,\n",
    "       1.08816604, 0.54493457, 0.43415014, 0.47676606, 5.32806397,\n",
    "       3.00553563, 0.04473598, 0.04920475, 0.05293832, 0.10395079,\n",
    "       0.25626143, 0.61529232, 1.08816604])\n",
    "seas_naive_fcst = dict(_seasonal_naive(y=y, h=12, season_length=12, fitted=True))['mean']\n",
    "np.testing.assert_array_almost_equal(seas_naive_fcst, y[-12:])"
   ]
  },
  {
   "cell_type": "code",
   "execution_count": null,
   "metadata": {},
   "outputs": [],
   "source": [
    "#| exporti\n",
    "# Functions used for calculating prediction intervals \n",
    "def _quantiles(level): \n",
    "    level = np.asarray(level)\n",
    "    z = norm.ppf(0.5+level/200)   \n",
    "    return z\n",
    "\n",
    "def _calculate_intervals(out, level, h, sigmah):\n",
    "    z = _quantiles(np.asarray(level))\n",
    "    zz = np.repeat(z, h)\n",
    "    zz = zz.reshape(z.shape[0], h)\n",
    "    lower = out['mean'] - zz * sigmah\n",
    "    upper = out['mean'] + zz * sigmah\n",
    "    pred_int = {**{f'lo-{lv}': lower[i] for i, lv in enumerate(level)}, \n",
    "                **{f'hi-{lv}': upper[i] for i, lv in enumerate(level)}}    \n",
    "    return pred_int\n",
    "\n",
    "def _calculate_sigma(residuals, n): \n",
    "    sigma = np.nansum(residuals ** 2) \n",
    "    sigma = sigma / n\n",
    "    sigma = np.sqrt(sigma)\n",
    "    return sigma"
   ]
  }
 ],
 "metadata": {
  "kernelspec": {
   "display_name": "python3",
   "language": "python",
   "name": "python3"
  }
 },
 "nbformat": 4,
 "nbformat_minor": 4
}
